{
 "cells": [
  {
   "cell_type": "markdown",
   "id": "cc64f026",
   "metadata": {},
   "source": [
    "dfdgdgfdgfdg"
   ]
  },
  {
   "cell_type": "code",
   "execution_count": 1,
   "id": "507547ad",
   "metadata": {},
   "outputs": [
    {
     "name": "stdout",
     "output_type": "stream",
     "text": [
      "Mahi\n"
     ]
    }
   ],
   "source": [
    "print(\"Mahi\")"
   ]
  },
  {
   "cell_type": "markdown",
   "id": "faed296a",
   "metadata": {},
   "source": [
    "dfdfdef"
   ]
  },
  {
   "cell_type": "code",
   "execution_count": 2,
   "id": "7a7489ab",
   "metadata": {},
   "outputs": [
    {
     "name": "stdout",
     "output_type": "stream",
     "text": [
      "6+8\n"
     ]
    }
   ],
   "source": [
    "print(\"6+8\");"
   ]
  },
  {
   "cell_type": "code",
   "execution_count": null,
   "id": "ce176330",
   "metadata": {},
   "outputs": [],
   "source": []
  }
 ],
 "metadata": {
  "kernelspec": {
   "display_name": "Python 3 (ipykernel)",
   "language": "python",
   "name": "python3"
  },
  "language_info": {
   "codemirror_mode": {
    "name": "ipython",
    "version": 3
   },
   "file_extension": ".py",
   "mimetype": "text/x-python",
   "name": "python",
   "nbconvert_exporter": "python",
   "pygments_lexer": "ipython3",
   "version": "3.9.12"
  }
 },
 "nbformat": 4,
 "nbformat_minor": 5
}
